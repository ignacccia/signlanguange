{
  "cells": [
    {
      "cell_type": "markdown",
      "metadata": {
        "id": "HNL0ODezLWwE"
      },
      "source": [
        "# Klasifikasi Bahasa Isyarat Menggunakan Metode CNN"
      ]
    },
    {
      "cell_type": "code",
      "execution_count": 65,
      "metadata": {
        "colab": {
          "base_uri": "https://localhost:8080/"
        },
        "id": "MKuHz4KmuL4T",
        "outputId": "2d226417-fb98-4bd8-a0a6-fee6bae3e968"
      },
      "outputs": [
        {
          "name": "stdout",
          "output_type": "stream",
          "text": [
            "Requirement already satisfied: kaggle in c:\\users\\cia\\anaconda3\\lib\\site-packages (1.5.12)\n",
            "Requirement already satisfied: urllib3 in c:\\users\\cia\\anaconda3\\lib\\site-packages (from kaggle) (1.26.9)\n",
            "Requirement already satisfied: tqdm in c:\\users\\cia\\anaconda3\\lib\\site-packages (from kaggle) (4.64.0)\n",
            "Requirement already satisfied: certifi in c:\\users\\cia\\anaconda3\\lib\\site-packages (from kaggle) (2021.10.8)\n",
            "Requirement already satisfied: six>=1.10 in c:\\users\\cia\\anaconda3\\lib\\site-packages (from kaggle) (1.16.0)\n",
            "Requirement already satisfied: python-slugify in c:\\users\\cia\\anaconda3\\lib\\site-packages (from kaggle) (5.0.2)\n",
            "Requirement already satisfied: python-dateutil in c:\\users\\cia\\anaconda3\\lib\\site-packages (from kaggle) (2.8.2)\n",
            "Requirement already satisfied: requests in c:\\users\\cia\\anaconda3\\lib\\site-packages (from kaggle) (2.27.1)\n",
            "Requirement already satisfied: text-unidecode>=1.3 in c:\\users\\cia\\anaconda3\\lib\\site-packages (from python-slugify->kaggle) (1.3)\n",
            "Requirement already satisfied: idna<4,>=2.5 in c:\\users\\cia\\anaconda3\\lib\\site-packages (from requests->kaggle) (3.3)\n",
            "Requirement already satisfied: charset-normalizer~=2.0.0 in c:\\users\\cia\\anaconda3\\lib\\site-packages (from requests->kaggle) (2.0.4)\n",
            "Requirement already satisfied: colorama in c:\\users\\cia\\anaconda3\\lib\\site-packages (from tqdm->kaggle) (0.4.4)\n"
          ]
        }
      ],
      "source": [
        "! pip install kaggle"
      ]
    },
    {
      "cell_type": "code",
      "execution_count": 66,
      "metadata": {},
      "outputs": [],
      "source": [
        "from os import mkdir"
      ]
    },
    {
      "cell_type": "code",
      "execution_count": 67,
      "metadata": {
        "id": "fu4ze77dx4UH"
      },
      "outputs": [],
      "source": [
        "! mkdir \"~/.kaggle\""
      ]
    },
    {
      "cell_type": "code",
      "execution_count": 68,
      "metadata": {
        "id": "N6Y0_ZcsEIqQ"
      },
      "outputs": [
        {
          "name": "stderr",
          "output_type": "stream",
          "text": [
            "'cp' is not recognized as an internal or external command,\n",
            "operable program or batch file.\n"
          ]
        }
      ],
      "source": [
        "! cp \"kaggle.json ~/.kaggle/\""
      ]
    },
    {
      "cell_type": "code",
      "execution_count": 69,
      "metadata": {
        "id": "NWySInpcEMmS"
      },
      "outputs": [
        {
          "name": "stderr",
          "output_type": "stream",
          "text": [
            "'chmod' is not recognized as an internal or external command,\n",
            "operable program or batch file.\n"
          ]
        }
      ],
      "source": [
        "! chmod 600 ~/.kaggle/kaggle.json"
      ]
    },
    {
      "cell_type": "code",
      "execution_count": 70,
      "metadata": {
        "colab": {
          "base_uri": "https://localhost:8080/"
        },
        "id": "fRCoO-h9EPv9",
        "outputId": "c094e5aa-a9c0-49ab-bf7c-0ba84f746c26"
      },
      "outputs": [
        {
          "name": "stdout",
          "output_type": "stream",
          "text": [
            "Downloading indian-sign-language-isl.zip to c:\\Users\\CIA\\Downloads\\Klasifikasi Bahasa Isyarat\\bahasaisyarat\n",
            "\n"
          ]
        },
        {
          "name": "stderr",
          "output_type": "stream",
          "text": [
            "\n",
            "  0%|          | 0.00/281M [00:00<?, ?B/s]\n",
            "  0%|          | 1.00M/281M [00:00<02:00, 2.43MB/s]\n",
            "  1%|          | 2.00M/281M [00:01<02:23, 2.04MB/s]\n",
            "  1%|          | 3.00M/281M [00:01<02:54, 1.67MB/s]\n",
            "  1%|▏         | 4.00M/281M [00:02<02:41, 1.80MB/s]\n",
            "  2%|▏         | 5.00M/281M [00:03<03:03, 1.58MB/s]\n",
            "  2%|▏         | 6.00M/281M [00:03<02:59, 1.61MB/s]\n",
            "  2%|▏         | 7.00M/281M [00:04<02:45, 1.74MB/s]\n",
            "  3%|▎         | 8.00M/281M [00:04<02:54, 1.64MB/s]\n",
            "  3%|▎         | 9.00M/281M [00:05<02:43, 1.74MB/s]\n",
            "  4%|▎         | 10.0M/281M [00:06<02:45, 1.72MB/s]\n",
            "  4%|▍         | 11.0M/281M [00:06<02:44, 1.72MB/s]\n",
            "  4%|▍         | 12.0M/281M [00:07<02:31, 1.85MB/s]\n",
            "  5%|▍         | 13.0M/281M [00:07<02:26, 1.91MB/s]\n",
            "  5%|▍         | 14.0M/281M [00:08<02:40, 1.74MB/s]\n",
            "  5%|▌         | 15.0M/281M [00:09<02:50, 1.63MB/s]\n",
            "  6%|▌         | 16.0M/281M [00:09<03:01, 1.53MB/s]\n",
            "  6%|▌         | 17.0M/281M [00:10<03:00, 1.53MB/s]\n",
            "  6%|▋         | 18.0M/281M [00:11<03:00, 1.53MB/s]\n",
            "  7%|▋         | 19.0M/281M [00:11<02:43, 1.68MB/s]\n",
            "  7%|▋         | 20.0M/281M [00:12<02:38, 1.73MB/s]\n",
            "  7%|▋         | 21.0M/281M [00:12<02:09, 2.11MB/s]\n",
            "  8%|▊         | 22.0M/281M [00:13<02:16, 1.99MB/s]\n",
            "  8%|▊         | 23.0M/281M [00:13<02:21, 1.91MB/s]\n",
            "  9%|▊         | 24.0M/281M [00:14<02:23, 1.88MB/s]\n",
            "  9%|▉         | 25.0M/281M [00:15<02:29, 1.79MB/s]\n",
            "  9%|▉         | 26.0M/281M [00:15<02:18, 1.93MB/s]\n",
            " 10%|▉         | 27.0M/281M [00:15<02:15, 1.96MB/s]\n",
            " 10%|▉         | 28.0M/281M [00:16<02:29, 1.77MB/s]\n",
            " 10%|█         | 29.0M/281M [00:17<02:40, 1.64MB/s]\n",
            " 11%|█         | 30.0M/281M [00:18<02:47, 1.57MB/s]\n",
            " 11%|█         | 31.0M/281M [00:18<02:36, 1.67MB/s]\n",
            " 11%|█▏        | 32.0M/281M [00:19<02:42, 1.61MB/s]\n",
            " 12%|█▏        | 33.0M/281M [00:20<02:50, 1.53MB/s]\n",
            " 12%|█▏        | 34.0M/281M [00:20<02:52, 1.50MB/s]\n",
            " 12%|█▏        | 35.0M/281M [00:21<02:47, 1.54MB/s]\n",
            " 13%|█▎        | 36.0M/281M [00:22<02:47, 1.53MB/s]\n",
            " 13%|█▎        | 37.0M/281M [00:23<02:55, 1.46MB/s]\n",
            " 14%|█▎        | 38.0M/281M [00:23<03:06, 1.37MB/s]\n",
            " 14%|█▍        | 39.0M/281M [00:24<03:10, 1.33MB/s]\n",
            " 14%|█▍        | 40.0M/281M [00:25<02:41, 1.56MB/s]\n",
            " 15%|█▍        | 41.0M/281M [00:25<02:40, 1.57MB/s]\n",
            " 15%|█▍        | 42.0M/281M [00:26<02:18, 1.81MB/s]\n",
            " 15%|█▌        | 43.0M/281M [00:26<02:21, 1.77MB/s]\n",
            " 16%|█▌        | 44.0M/281M [00:27<02:21, 1.75MB/s]\n",
            " 16%|█▌        | 45.0M/281M [00:27<02:08, 1.92MB/s]\n",
            " 16%|█▋        | 46.0M/281M [00:28<02:24, 1.70MB/s]\n",
            " 17%|█▋        | 47.0M/281M [00:29<02:29, 1.64MB/s]\n",
            " 17%|█▋        | 48.0M/281M [00:29<02:22, 1.72MB/s]\n",
            " 17%|█▋        | 49.0M/281M [00:30<02:26, 1.66MB/s]\n",
            " 18%|█▊        | 50.0M/281M [00:30<02:05, 1.93MB/s]\n",
            " 18%|█▊        | 51.0M/281M [00:31<02:07, 1.88MB/s]\n",
            " 19%|█▊        | 52.0M/281M [00:32<02:11, 1.83MB/s]\n",
            " 19%|█▉        | 53.0M/281M [00:32<02:18, 1.73MB/s]\n",
            " 19%|█▉        | 54.0M/281M [00:33<02:25, 1.63MB/s]\n",
            " 20%|█▉        | 55.0M/281M [00:34<02:17, 1.72MB/s]\n",
            " 20%|█▉        | 56.0M/281M [00:34<02:16, 1.73MB/s]\n",
            " 20%|██        | 57.0M/281M [00:35<02:17, 1.71MB/s]\n",
            " 21%|██        | 58.0M/281M [00:35<01:59, 1.95MB/s]\n",
            " 21%|██        | 59.0M/281M [00:36<02:05, 1.85MB/s]\n",
            " 21%|██▏       | 60.0M/281M [00:36<02:17, 1.69MB/s]\n",
            " 22%|██▏       | 61.0M/281M [00:37<02:23, 1.60MB/s]\n",
            " 22%|██▏       | 62.0M/281M [00:38<02:09, 1.77MB/s]\n",
            " 22%|██▏       | 63.0M/281M [00:38<02:06, 1.80MB/s]\n",
            " 23%|██▎       | 64.0M/281M [00:39<02:15, 1.68MB/s]\n",
            " 23%|██▎       | 65.0M/281M [00:40<02:13, 1.69MB/s]\n",
            " 24%|██▎       | 66.0M/281M [00:40<02:16, 1.65MB/s]\n",
            " 24%|██▍       | 67.0M/281M [00:41<02:20, 1.60MB/s]\n",
            " 24%|██▍       | 68.0M/281M [00:42<02:24, 1.55MB/s]\n",
            " 25%|██▍       | 69.0M/281M [00:42<02:23, 1.55MB/s]\n",
            " 25%|██▍       | 70.0M/281M [00:43<02:02, 1.80MB/s]\n",
            " 25%|██▌       | 71.0M/281M [00:43<02:08, 1.71MB/s]\n",
            " 26%|██▌       | 72.0M/281M [00:44<02:01, 1.80MB/s]\n",
            " 26%|██▌       | 73.0M/281M [00:44<01:56, 1.87MB/s]\n",
            " 26%|██▋       | 74.0M/281M [00:45<01:51, 1.95MB/s]\n",
            " 27%|██▋       | 75.0M/281M [00:46<02:06, 1.71MB/s]\n",
            " 27%|██▋       | 76.0M/281M [00:46<02:08, 1.67MB/s]\n",
            " 27%|██▋       | 77.0M/281M [00:47<02:13, 1.60MB/s]\n",
            " 28%|██▊       | 78.0M/281M [00:48<02:14, 1.58MB/s]\n",
            " 28%|██▊       | 79.0M/281M [00:49<02:19, 1.51MB/s]\n",
            " 28%|██▊       | 80.0M/281M [00:49<02:04, 1.70MB/s]\n",
            " 29%|██▉       | 81.0M/281M [00:49<01:44, 2.00MB/s]\n",
            " 29%|██▉       | 82.0M/281M [00:50<01:51, 1.86MB/s]\n",
            " 30%|██▉       | 83.0M/281M [00:51<01:55, 1.80MB/s]\n",
            " 30%|██▉       | 84.0M/281M [00:51<01:47, 1.93MB/s]\n",
            " 30%|███       | 85.0M/281M [00:52<01:53, 1.82MB/s]\n",
            " 31%|███       | 86.0M/281M [00:52<01:53, 1.80MB/s]\n",
            " 31%|███       | 87.0M/281M [00:53<01:57, 1.74MB/s]\n",
            " 31%|███▏      | 88.0M/281M [00:54<02:03, 1.64MB/s]\n",
            " 32%|███▏      | 89.0M/281M [00:54<02:04, 1.62MB/s]\n",
            " 32%|███▏      | 90.0M/281M [00:55<01:43, 1.93MB/s]\n",
            " 32%|███▏      | 91.0M/281M [00:55<01:49, 1.81MB/s]\n",
            " 33%|███▎      | 92.0M/281M [00:56<01:52, 1.76MB/s]\n",
            " 33%|███▎      | 93.0M/281M [00:56<01:44, 1.88MB/s]\n",
            " 33%|███▎      | 94.0M/281M [00:57<01:44, 1.87MB/s]\n",
            " 34%|███▍      | 95.0M/281M [00:57<01:42, 1.91MB/s]\n",
            " 34%|███▍      | 96.0M/281M [00:58<01:25, 2.26MB/s]\n",
            " 35%|███▍      | 97.0M/281M [00:58<01:40, 1.91MB/s]\n",
            " 35%|███▍      | 98.0M/281M [00:59<01:52, 1.71MB/s]\n",
            " 35%|███▌      | 99.0M/281M [01:00<01:58, 1.61MB/s]\n",
            " 36%|███▌      | 100M/281M [01:01<02:02, 1.55MB/s] \n",
            " 36%|███▌      | 101M/281M [01:01<01:53, 1.66MB/s]\n",
            " 36%|███▋      | 102M/281M [01:02<01:59, 1.56MB/s]\n",
            " 37%|███▋      | 103M/281M [01:03<02:01, 1.53MB/s]\n",
            " 37%|███▋      | 104M/281M [01:03<02:00, 1.54MB/s]\n",
            " 37%|███▋      | 105M/281M [01:04<01:52, 1.64MB/s]\n",
            " 38%|███▊      | 106M/281M [01:04<01:42, 1.78MB/s]\n",
            " 38%|███▊      | 107M/281M [01:05<01:46, 1.71MB/s]\n",
            " 38%|███▊      | 108M/281M [01:06<01:52, 1.60MB/s]\n",
            " 39%|███▉      | 109M/281M [01:06<01:52, 1.61MB/s]\n",
            " 39%|███▉      | 110M/281M [01:07<01:59, 1.50MB/s]\n",
            " 40%|███▉      | 111M/281M [01:08<02:09, 1.37MB/s]\n",
            " 40%|███▉      | 112M/281M [01:09<02:15, 1.30MB/s]\n",
            " 40%|████      | 113M/281M [01:10<02:11, 1.34MB/s]\n",
            " 41%|████      | 114M/281M [01:11<02:15, 1.29MB/s]\n",
            " 41%|████      | 115M/281M [01:11<02:14, 1.29MB/s]\n",
            " 41%|████▏     | 116M/281M [01:12<02:14, 1.28MB/s]\n",
            " 42%|████▏     | 117M/281M [01:13<02:18, 1.24MB/s]\n",
            " 42%|████▏     | 118M/281M [01:14<02:15, 1.26MB/s]\n",
            " 42%|████▏     | 119M/281M [01:15<02:17, 1.23MB/s]\n",
            " 43%|████▎     | 120M/281M [01:16<02:18, 1.22MB/s]\n",
            " 43%|████▎     | 121M/281M [01:17<02:18, 1.21MB/s]\n",
            " 43%|████▎     | 122M/281M [01:17<02:14, 1.24MB/s]\n",
            " 44%|████▍     | 123M/281M [01:18<02:09, 1.27MB/s]\n",
            " 44%|████▍     | 124M/281M [01:19<01:55, 1.42MB/s]\n",
            " 45%|████▍     | 125M/281M [01:19<01:52, 1.45MB/s]\n",
            " 45%|████▍     | 126M/281M [01:20<01:51, 1.45MB/s]\n",
            " 45%|████▌     | 127M/281M [01:21<01:50, 1.47MB/s]\n",
            " 46%|████▌     | 128M/281M [01:22<01:45, 1.52MB/s]\n",
            " 46%|████▌     | 129M/281M [01:22<01:37, 1.64MB/s]\n",
            " 46%|████▋     | 130M/281M [01:23<01:39, 1.59MB/s]\n",
            " 47%|████▋     | 131M/281M [01:23<01:37, 1.61MB/s]\n",
            " 47%|████▋     | 132M/281M [01:24<01:32, 1.69MB/s]\n",
            " 47%|████▋     | 133M/281M [01:25<01:32, 1.67MB/s]\n",
            " 48%|████▊     | 134M/281M [01:25<01:33, 1.64MB/s]\n",
            " 48%|████▊     | 135M/281M [01:26<01:29, 1.71MB/s]\n",
            " 48%|████▊     | 136M/281M [01:26<01:29, 1.69MB/s]\n",
            " 49%|████▉     | 137M/281M [01:27<01:30, 1.66MB/s]\n",
            " 49%|████▉     | 138M/281M [01:28<01:29, 1.68MB/s]\n",
            " 49%|████▉     | 139M/281M [01:28<01:28, 1.69MB/s]\n",
            " 50%|████▉     | 140M/281M [01:29<01:31, 1.61MB/s]\n",
            " 50%|█████     | 141M/281M [01:30<01:26, 1.69MB/s]\n",
            " 51%|█████     | 142M/281M [01:30<01:21, 1.78MB/s]\n",
            " 51%|█████     | 143M/281M [01:31<01:23, 1.74MB/s]\n",
            " 51%|█████▏    | 144M/281M [01:31<01:21, 1.76MB/s]\n",
            " 52%|█████▏    | 145M/281M [01:32<01:22, 1.73MB/s]\n",
            " 52%|█████▏    | 146M/281M [01:33<01:19, 1.79MB/s]\n",
            " 52%|█████▏    | 147M/281M [01:33<01:11, 1.97MB/s]\n",
            " 53%|█████▎    | 148M/281M [01:33<01:07, 2.06MB/s]\n",
            " 53%|█████▎    | 149M/281M [01:34<01:09, 1.99MB/s]\n",
            " 53%|█████▎    | 150M/281M [01:35<01:10, 1.94MB/s]\n",
            " 54%|█████▍    | 151M/281M [01:35<01:04, 2.12MB/s]\n",
            " 54%|█████▍    | 152M/281M [01:36<01:08, 1.97MB/s]\n",
            " 54%|█████▍    | 153M/281M [01:36<01:13, 1.81MB/s]\n",
            " 55%|█████▍    | 154M/281M [01:37<01:15, 1.75MB/s]\n",
            " 55%|█████▌    | 155M/281M [01:38<01:17, 1.71MB/s]\n",
            " 56%|█████▌    | 156M/281M [01:38<01:20, 1.63MB/s]\n",
            " 56%|█████▌    | 157M/281M [01:39<01:24, 1.54MB/s]\n",
            " 56%|█████▋    | 158M/281M [01:40<01:25, 1.51MB/s]\n",
            " 57%|█████▋    | 159M/281M [01:40<01:26, 1.48MB/s]\n",
            " 57%|█████▋    | 160M/281M [01:41<01:27, 1.44MB/s]\n",
            " 57%|█████▋    | 161M/281M [01:42<01:23, 1.50MB/s]\n",
            " 58%|█████▊    | 162M/281M [01:43<01:23, 1.49MB/s]\n",
            " 58%|█████▊    | 163M/281M [01:43<01:19, 1.55MB/s]\n",
            " 58%|█████▊    | 164M/281M [01:44<01:15, 1.63MB/s]\n",
            " 59%|█████▉    | 165M/281M [01:44<01:13, 1.64MB/s]\n",
            " 59%|█████▉    | 166M/281M [01:45<01:18, 1.54MB/s]\n",
            " 59%|█████▉    | 167M/281M [01:46<01:21, 1.46MB/s]\n",
            " 60%|█████▉    | 168M/281M [01:46<01:13, 1.60MB/s]\n",
            " 60%|██████    | 169M/281M [01:47<01:17, 1.52MB/s]\n",
            " 61%|██████    | 170M/281M [01:48<01:19, 1.46MB/s]\n",
            " 61%|██████    | 171M/281M [01:49<01:21, 1.42MB/s]\n",
            " 61%|██████    | 172M/281M [01:50<01:22, 1.39MB/s]\n",
            " 62%|██████▏   | 173M/281M [01:50<01:24, 1.34MB/s]\n",
            " 62%|██████▏   | 174M/281M [01:51<01:27, 1.28MB/s]\n",
            " 62%|██████▏   | 175M/281M [01:52<01:25, 1.30MB/s]\n",
            " 63%|██████▎   | 176M/281M [01:53<01:27, 1.26MB/s]\n",
            " 63%|██████▎   | 177M/281M [01:54<01:29, 1.21MB/s]\n",
            " 63%|██████▎   | 178M/281M [01:55<01:30, 1.19MB/s]\n",
            " 64%|██████▎   | 179M/281M [01:56<01:29, 1.20MB/s]\n",
            " 64%|██████▍   | 180M/281M [01:56<01:24, 1.26MB/s]\n",
            " 64%|██████▍   | 181M/281M [01:57<01:20, 1.31MB/s]\n",
            " 65%|██████▍   | 182M/281M [01:58<01:15, 1.37MB/s]\n",
            " 65%|██████▌   | 183M/281M [01:59<01:15, 1.36MB/s]\n",
            " 66%|██████▌   | 184M/281M [01:59<01:06, 1.52MB/s]\n",
            " 66%|██████▌   | 185M/281M [02:00<01:08, 1.47MB/s]\n",
            " 66%|██████▌   | 186M/281M [02:01<01:06, 1.51MB/s]\n",
            " 67%|██████▋   | 187M/281M [02:01<01:03, 1.54MB/s]\n",
            " 67%|██████▋   | 188M/281M [02:02<01:03, 1.53MB/s]\n",
            " 67%|██████▋   | 189M/281M [02:02<00:55, 1.72MB/s]\n",
            " 68%|██████▊   | 190M/281M [02:03<00:56, 1.69MB/s]\n",
            " 68%|██████▊   | 191M/281M [02:04<00:57, 1.64MB/s]\n",
            " 68%|██████▊   | 192M/281M [02:04<00:56, 1.64MB/s]\n",
            " 69%|██████▊   | 193M/281M [02:05<00:58, 1.56MB/s]\n",
            " 69%|██████▉   | 194M/281M [02:06<00:53, 1.71MB/s]\n",
            " 69%|██████▉   | 195M/281M [02:06<00:45, 1.98MB/s]\n",
            " 70%|██████▉   | 196M/281M [02:07<00:48, 1.84MB/s]\n",
            " 70%|███████   | 197M/281M [02:07<00:47, 1.86MB/s]\n",
            " 71%|███████   | 198M/281M [02:08<00:44, 1.95MB/s]\n",
            " 71%|███████   | 199M/281M [02:08<00:45, 1.87MB/s]\n",
            " 71%|███████   | 200M/281M [02:09<00:47, 1.78MB/s]\n",
            " 72%|███████▏  | 201M/281M [02:10<00:49, 1.69MB/s]\n",
            " 72%|███████▏  | 202M/281M [02:10<00:46, 1.79MB/s]\n",
            " 72%|███████▏  | 203M/281M [02:11<00:46, 1.75MB/s]\n",
            " 73%|███████▎  | 204M/281M [02:11<00:47, 1.70MB/s]\n",
            " 73%|███████▎  | 205M/281M [02:12<00:47, 1.67MB/s]\n",
            " 73%|███████▎  | 206M/281M [02:13<00:46, 1.69MB/s]\n",
            " 74%|███████▎  | 207M/281M [02:13<00:40, 1.92MB/s]\n",
            " 74%|███████▍  | 208M/281M [02:14<00:42, 1.81MB/s]\n",
            " 74%|███████▍  | 209M/281M [02:14<00:44, 1.71MB/s]\n",
            " 75%|███████▍  | 210M/281M [02:15<00:39, 1.88MB/s]\n",
            " 75%|███████▌  | 211M/281M [02:15<00:37, 1.97MB/s]\n",
            " 75%|███████▌  | 212M/281M [02:16<00:38, 1.89MB/s]\n",
            " 76%|███████▌  | 213M/281M [02:16<00:39, 1.79MB/s]\n",
            " 76%|███████▌  | 214M/281M [02:17<00:38, 1.80MB/s]\n",
            " 77%|███████▋  | 215M/281M [02:17<00:35, 1.95MB/s]\n",
            " 77%|███████▋  | 216M/281M [02:18<00:36, 1.84MB/s]\n",
            " 77%|███████▋  | 217M/281M [02:19<00:38, 1.75MB/s]\n",
            " 78%|███████▊  | 218M/281M [02:20<00:39, 1.66MB/s]\n",
            " 78%|███████▊  | 219M/281M [02:20<00:38, 1.70MB/s]\n",
            " 78%|███████▊  | 220M/281M [02:21<00:36, 1.74MB/s]\n",
            " 79%|███████▊  | 221M/281M [02:21<00:34, 1.82MB/s]\n",
            " 79%|███████▉  | 222M/281M [02:22<00:35, 1.73MB/s]\n",
            " 79%|███████▉  | 223M/281M [02:22<00:34, 1.75MB/s]\n",
            " 80%|███████▉  | 224M/281M [02:23<00:33, 1.77MB/s]\n",
            " 80%|████████  | 225M/281M [02:24<00:32, 1.80MB/s]\n",
            " 80%|████████  | 226M/281M [02:24<00:32, 1.79MB/s]\n",
            " 81%|████████  | 227M/281M [02:25<00:30, 1.86MB/s]\n",
            " 81%|████████  | 228M/281M [02:25<00:31, 1.78MB/s]\n",
            " 82%|████████▏ | 229M/281M [02:26<00:32, 1.68MB/s]\n",
            " 82%|████████▏ | 230M/281M [02:26<00:28, 1.86MB/s]\n",
            " 82%|████████▏ | 231M/281M [02:27<00:26, 1.99MB/s]\n",
            " 83%|████████▎ | 232M/281M [02:28<00:27, 1.84MB/s]\n",
            " 83%|████████▎ | 233M/281M [02:28<00:27, 1.84MB/s]\n",
            " 83%|████████▎ | 234M/281M [02:29<00:28, 1.73MB/s]\n",
            " 84%|████████▎ | 235M/281M [02:30<00:29, 1.62MB/s]\n",
            " 84%|████████▍ | 236M/281M [02:30<00:28, 1.65MB/s]\n",
            " 84%|████████▍ | 237M/281M [02:31<00:28, 1.63MB/s]\n",
            " 85%|████████▍ | 238M/281M [02:32<00:29, 1.55MB/s]\n",
            " 85%|████████▌ | 239M/281M [02:32<00:28, 1.53MB/s]\n",
            " 85%|████████▌ | 240M/281M [02:33<00:23, 1.80MB/s]\n",
            " 86%|████████▌ | 241M/281M [02:33<00:21, 1.94MB/s]\n",
            " 86%|████████▌ | 242M/281M [02:34<00:24, 1.68MB/s]\n",
            " 87%|████████▋ | 243M/281M [02:34<00:22, 1.77MB/s]\n",
            " 87%|████████▋ | 244M/281M [02:35<00:23, 1.67MB/s]\n",
            " 87%|████████▋ | 245M/281M [02:36<00:23, 1.59MB/s]\n",
            " 88%|████████▊ | 246M/281M [02:37<00:23, 1.55MB/s]\n",
            " 88%|████████▊ | 247M/281M [02:37<00:21, 1.62MB/s]\n",
            " 88%|████████▊ | 248M/281M [02:38<00:22, 1.54MB/s]\n",
            " 89%|████████▊ | 249M/281M [02:39<00:22, 1.49MB/s]\n",
            " 89%|████████▉ | 250M/281M [02:39<00:22, 1.44MB/s]\n",
            " 89%|████████▉ | 251M/281M [02:40<00:21, 1.43MB/s]\n",
            " 90%|████████▉ | 252M/281M [02:41<00:21, 1.39MB/s]\n",
            " 90%|█████████ | 253M/281M [02:42<00:20, 1.40MB/s]\n",
            " 90%|█████████ | 254M/281M [02:43<00:20, 1.37MB/s]\n",
            " 91%|█████████ | 255M/281M [02:43<00:20, 1.32MB/s]\n",
            " 91%|█████████ | 256M/281M [02:44<00:20, 1.28MB/s]\n",
            " 92%|█████████▏| 257M/281M [02:45<00:17, 1.45MB/s]\n",
            " 92%|█████████▏| 258M/281M [02:46<00:16, 1.43MB/s]\n",
            " 92%|█████████▏| 259M/281M [02:46<00:15, 1.43MB/s]\n",
            " 93%|█████████▎| 260M/281M [02:47<00:13, 1.62MB/s]\n",
            " 93%|█████████▎| 261M/281M [02:47<00:12, 1.62MB/s]\n",
            " 93%|█████████▎| 262M/281M [02:48<00:12, 1.54MB/s]\n",
            " 94%|█████████▎| 263M/281M [02:49<00:12, 1.50MB/s]\n",
            " 94%|█████████▍| 264M/281M [02:50<00:12, 1.38MB/s]\n",
            " 94%|█████████▍| 265M/281M [02:50<00:11, 1.48MB/s]\n",
            " 95%|█████████▍| 266M/281M [02:51<00:10, 1.46MB/s]\n",
            " 95%|█████████▌| 267M/281M [02:52<00:10, 1.44MB/s]\n",
            " 95%|█████████▌| 268M/281M [02:53<00:09, 1.49MB/s]\n",
            " 96%|█████████▌| 269M/281M [02:53<00:07, 1.63MB/s]\n",
            " 96%|█████████▌| 270M/281M [02:54<00:06, 1.67MB/s]\n",
            " 97%|█████████▋| 271M/281M [02:54<00:05, 1.76MB/s]\n",
            " 97%|█████████▋| 272M/281M [02:55<00:05, 1.83MB/s]\n",
            " 97%|█████████▋| 273M/281M [02:55<00:04, 1.78MB/s]\n",
            " 98%|█████████▊| 274M/281M [02:56<00:03, 1.87MB/s]\n",
            " 98%|█████████▊| 275M/281M [02:56<00:03, 1.79MB/s]\n",
            " 98%|█████████▊| 276M/281M [02:57<00:03, 1.68MB/s]\n",
            " 99%|█████████▊| 277M/281M [02:58<00:02, 1.67MB/s]\n",
            " 99%|█████████▉| 278M/281M [02:58<00:01, 2.04MB/s]\n",
            " 99%|█████████▉| 279M/281M [02:59<00:00, 1.97MB/s]\n",
            "100%|█████████▉| 280M/281M [02:59<00:00, 1.83MB/s]\n",
            "100%|██████████| 281M/281M [03:00<00:00, 1.84MB/s]\n",
            "100%|██████████| 281M/281M [03:00<00:00, 1.63MB/s]\n"
          ]
        }
      ],
      "source": [
        "! kaggle datasets download -d prathumarikeri/indian-sign-language-isl"
      ]
    },
    {
      "cell_type": "markdown",
      "metadata": {
        "id": "d5NiRkA-XXV0"
      },
      "source": [
        "## Untuk mengekstrak file"
      ]
    },
    {
      "cell_type": "code",
      "execution_count": 76,
      "metadata": {
        "id": "0JSwcYIXL-Gr"
      },
      "outputs": [],
      "source": [
        "# selanjutnya kita akan mengekstrak filenya menggunakan library zipfile\n",
        "import zipfile\n",
        "file = zipfile.ZipFile(\"indian-sign-language-isl.zip\")\n",
        "file.extractall(\"/content/\")\n",
        "# untuk mengekstrak file nya dan memindahkan ke folder content\n"
      ]
    },
    {
      "cell_type": "code",
      "execution_count": 84,
      "metadata": {
        "colab": {
          "base_uri": "https://localhost:8080/"
        },
        "id": "r83GIc_uGO9Q",
        "outputId": "6dc4033d-0939-467c-fc31-21cd451f0812"
      },
      "outputs": [
        {
          "name": "stdout",
          "output_type": "stream",
          "text": [
            "total gambar = 0\n"
          ]
        }
      ],
      "source": [
        "import glob # glob ini berfungsi mengambil semua file yg ada dalam directory dalam format tertentu\n",
        "images = glob.glob(r\"C:/Users/CIA/Downloads/Klasifikasi Bahasa Isyarat/bahasaisyarat/indian-sign-language-isl - Copy/Indian/*.jpg\") # disini saya mnegambil file dari path tersebut lalu (.jpg karena ingin mengetahui ada berapa gambarnya\n",
        "print(f\"total gambar = {len(images)}\")"
      ]
    },
    {
      "cell_type": "markdown",
      "metadata": {
        "id": "YzAROj2wkOZr"
      },
      "source": [
        "# Mengimport Library\n",
        "- Conv2D = bertujuan untuk mengubah satu buah citra berdasarkan satu buah kernel\n",
        "- Dense = untuk menambahkan layer\n",
        "- Droupout = untuk menghindari overviting\n",
        "- "
      ]
    },
    {
      "cell_type": "code",
      "execution_count": 85,
      "metadata": {
        "id": "IEi75lMRJEku"
      },
      "outputs": [],
      "source": [
        "from keras.layers import Conv2D, Dense, Dropout, Flatten, MaxPool2D\n",
        "from keras.models import Sequential\n",
        "from keras.preprocessing.image import ImageDataGenerator\n"
      ]
    },
    {
      "cell_type": "markdown",
      "metadata": {
        "id": "aGO6djQnmaQz"
      },
      "source": [
        "# Prepare Data"
      ]
    },
    {
      "cell_type": "code",
      "execution_count": 87,
      "metadata": {
        "colab": {
          "base_uri": "https://localhost:8080/"
        },
        "id": "wfPol49bE3ZO",
        "outputId": "7e991178-a58d-4fbf-aaf2-c1b192ccad39"
      },
      "outputs": [
        {
          "name": "stdout",
          "output_type": "stream",
          "text": [
            "Found 34198 images belonging to 35 classes.\n",
            "Found 8547 images belonging to 35 classes.\n"
          ]
        }
      ],
      "source": [
        "from numpy.random.mtrand import shuffle\n",
        "data = r\"C:/Users/CIA/Downloads/Klasifikasi Bahasa Isyarat/bahasaisyarat/indian-sign-language-isl - Copy/Indian/\"\n",
        "targetsize = (128, 128) #diambil dari ukuran gambarnya tadi\n",
        "classes = 35 \n",
        "\n",
        "# buat image data generatornya dulu :\n",
        "train_datagen = ImageDataGenerator(rescale=1./255,\n",
        "                                   zoom_range=0.1,\n",
        "                                   horizontal_flip=False,\n",
        "                                   validation_split=0.2) # pembagian datanya untuk training 80% dan testing 20%\n",
        "\n",
        "train_gen = train_datagen.flow_from_directory(data, target_size=targetsize,\n",
        "                                              shuffle= True,\n",
        "                                              batch_size= 32,\n",
        "                                              color_mode=\"rgb\",\n",
        "                                              class_mode=\"categorical\",\n",
        "                                              subset=\"training\")\n",
        "\n",
        "val_gen = train_datagen.flow_from_directory(data, target_size=targetsize,\n",
        "                                              shuffle= False,\n",
        "                                              batch_size= 32,\n",
        "                                              color_mode=\"rgb\",\n",
        "                                              class_mode=\"categorical\",\n",
        "                                              subset=\"validation\")\n",
        "\n",
        "\n",
        "\n",
        "\n"
      ]
    },
    {
      "cell_type": "markdown",
      "metadata": {
        "id": "GodMz0itqs-I"
      },
      "source": [
        "# Create Model"
      ]
    },
    {
      "cell_type": "code",
      "execution_count": 88,
      "metadata": {
        "id": "ZmNTkkX-qTFi"
      },
      "outputs": [],
      "source": [
        "from keras.layers.pooling import MaxPooling2D\n",
        "model = Sequential()\n",
        "# disini kita akan konvolusikan dengan 32 filter :\n",
        "model.add(Conv2D(32, kernel_size=3, strides=1, activation=\"relu\",padding=\"same\", input_shape=(128,128,3)))\n",
        "# strides = pergeseran setiap kernelnya \n",
        "model.add(MaxPooling2D(pool_size = (3,3), strides=2))\n",
        "\n",
        "# selanjutnya konvolusikan dengan 64 filter :\n",
        "model.add(Conv2D(64, kernel_size=3, strides=1, activation=\"relu\", padding=\"same\"))\n",
        "model.add(MaxPooling2D(pool_size = (2,2), strides=2))\n",
        "\n",
        "# selanjutnya konvolusikan dengan 64 filter :\n",
        "model.add(Conv2D(64, kernel_size=3, strides=1, activation=\"relu\", padding=\"same\"))\n",
        "model.add(MaxPooling2D(pool_size = (2,2), strides=2))\n",
        "\n",
        "# selanjutnya konvolusikan dengan 128 filter :\n",
        "model.add(Conv2D(128, kernel_size=3, strides=1, activation=\"relu\", padding=\"same\"))\n",
        "model.add(MaxPooling2D(pool_size = (2,2), strides=1))\n",
        "\n",
        "# Flatten\n",
        "model.add(Flatten())\n",
        "model.add(Dropout(0.5))\n",
        "model.add(Dense(512, activation=\"relu\"))\n",
        "model.add(Dense(classes, activation=\"softmax\"))\n",
        "\n",
        "model.compile(optimizer=\"Adam\", loss=\"categorical_crossentropy\", metrics=[\"accuracy\"])\n",
        "\n",
        "\n"
      ]
    },
    {
      "cell_type": "markdown",
      "metadata": {
        "id": "F75lIXVnk58I"
      },
      "source": [
        "# Menampilkan Model "
      ]
    },
    {
      "cell_type": "code",
      "execution_count": 89,
      "metadata": {
        "colab": {
          "base_uri": "https://localhost:8080/"
        },
        "id": "eyhbOENVZPSB",
        "outputId": "61cc9338-f526-4e7a-9629-2ffbbd15840a"
      },
      "outputs": [
        {
          "name": "stdout",
          "output_type": "stream",
          "text": [
            "Model: \"sequential_1\"\n",
            "_________________________________________________________________\n",
            " Layer (type)                Output Shape              Param #   \n",
            "=================================================================\n",
            " conv2d_4 (Conv2D)           (None, 128, 128, 32)      896       \n",
            "                                                                 \n",
            " max_pooling2d_4 (MaxPooling  (None, 63, 63, 32)       0         \n",
            " 2D)                                                             \n",
            "                                                                 \n",
            " conv2d_5 (Conv2D)           (None, 63, 63, 64)        18496     \n",
            "                                                                 \n",
            " max_pooling2d_5 (MaxPooling  (None, 31, 31, 64)       0         \n",
            " 2D)                                                             \n",
            "                                                                 \n",
            " conv2d_6 (Conv2D)           (None, 31, 31, 64)        36928     \n",
            "                                                                 \n",
            " max_pooling2d_6 (MaxPooling  (None, 15, 15, 64)       0         \n",
            " 2D)                                                             \n",
            "                                                                 \n",
            " conv2d_7 (Conv2D)           (None, 15, 15, 128)       73856     \n",
            "                                                                 \n",
            " max_pooling2d_7 (MaxPooling  (None, 14, 14, 128)      0         \n",
            " 2D)                                                             \n",
            "                                                                 \n",
            " flatten_1 (Flatten)         (None, 25088)             0         \n",
            "                                                                 \n",
            " dropout_1 (Dropout)         (None, 25088)             0         \n",
            "                                                                 \n",
            " dense_2 (Dense)             (None, 512)               12845568  \n",
            "                                                                 \n",
            " dense_3 (Dense)             (None, 35)                17955     \n",
            "                                                                 \n",
            "=================================================================\n",
            "Total params: 12,993,699\n",
            "Trainable params: 12,993,699\n",
            "Non-trainable params: 0\n",
            "_________________________________________________________________\n"
          ]
        }
      ],
      "source": [
        "model.summary() # untuk menampilkan model yg telah kita buat"
      ]
    },
    {
      "cell_type": "markdown",
      "metadata": {
        "id": "oJy6LOimmNUE"
      },
      "source": [
        "# Compile Model"
      ]
    },
    {
      "cell_type": "code",
      "execution_count": 90,
      "metadata": {
        "colab": {
          "base_uri": "https://localhost:8080/"
        },
        "id": "hwl4ZowFkTkY",
        "outputId": "ab9d003f-2ec0-4c0c-ef6e-00b099564791"
      },
      "outputs": [
        {
          "name": "stdout",
          "output_type": "stream",
          "text": [
            "Epoch 1/25\n",
            "8/8 [==============================] - 13s 1s/step - loss: 3.3597 - accuracy: 0.1055 - val_loss: 2.7078 - val_accuracy: 0.6445\n",
            "Epoch 2/25\n",
            "8/8 [==============================] - 10s 1s/step - loss: 1.5698 - accuracy: 0.6758 - val_loss: 0.9072 - val_accuracy: 0.7969\n",
            "Epoch 3/25\n",
            "8/8 [==============================] - 10s 1s/step - loss: 0.3779 - accuracy: 0.9141 - val_loss: 0.0649 - val_accuracy: 0.9883\n",
            "Epoch 4/25\n",
            "8/8 [==============================] - 9s 1s/step - loss: 0.1281 - accuracy: 0.9648 - val_loss: 0.4563 - val_accuracy: 0.8438\n",
            "Epoch 5/25\n",
            "8/8 [==============================] - 10s 1s/step - loss: 0.1558 - accuracy: 0.9648 - val_loss: 0.4087 - val_accuracy: 0.8438\n",
            "Epoch 6/25\n",
            "8/8 [==============================] - 10s 1s/step - loss: 0.0511 - accuracy: 0.9922 - val_loss: 0.0282 - val_accuracy: 1.0000\n",
            "Epoch 7/25\n",
            "8/8 [==============================] - 10s 1s/step - loss: 0.0452 - accuracy: 0.9844 - val_loss: 0.3980 - val_accuracy: 0.9258\n",
            "Epoch 8/25\n",
            "8/8 [==============================] - 9s 1s/step - loss: 0.0646 - accuracy: 0.9766 - val_loss: 2.1211e-04 - val_accuracy: 1.0000\n",
            "Epoch 9/25\n",
            "8/8 [==============================] - 9s 1s/step - loss: 0.0830 - accuracy: 0.9805 - val_loss: 0.0572 - val_accuracy: 0.9688\n",
            "Epoch 10/25\n",
            "8/8 [==============================] - 9s 1s/step - loss: 0.0425 - accuracy: 0.9844 - val_loss: 0.1173 - val_accuracy: 0.9727\n",
            "Epoch 11/25\n",
            "8/8 [==============================] - 10s 1s/step - loss: 0.0190 - accuracy: 0.9922 - val_loss: 0.1077 - val_accuracy: 0.9648\n",
            "Epoch 12/25\n",
            "8/8 [==============================] - 9s 1s/step - loss: 0.0333 - accuracy: 0.9922 - val_loss: 0.0091 - val_accuracy: 1.0000\n",
            "Epoch 13/25\n",
            "8/8 [==============================] - 9s 1s/step - loss: 0.0112 - accuracy: 0.9961 - val_loss: 0.1041 - val_accuracy: 0.9609\n",
            "Epoch 14/25\n",
            "8/8 [==============================] - 10s 1s/step - loss: 0.0369 - accuracy: 0.9922 - val_loss: 5.5185e-04 - val_accuracy: 1.0000\n",
            "Epoch 15/25\n",
            "8/8 [==============================] - 10s 1s/step - loss: 0.0030 - accuracy: 1.0000 - val_loss: 0.0094 - val_accuracy: 1.0000\n",
            "Epoch 16/25\n",
            "8/8 [==============================] - 9s 1s/step - loss: 0.0096 - accuracy: 0.9961 - val_loss: 0.0152 - val_accuracy: 1.0000\n",
            "Epoch 17/25\n",
            "8/8 [==============================] - 9s 1s/step - loss: 6.9113e-04 - accuracy: 1.0000 - val_loss: 0.0271 - val_accuracy: 0.9961\n",
            "Epoch 18/25\n",
            "8/8 [==============================] - 9s 1s/step - loss: 0.0383 - accuracy: 0.9883 - val_loss: 0.0191 - val_accuracy: 0.9961\n",
            "Epoch 19/25\n",
            "8/8 [==============================] - 9s 1s/step - loss: 0.0702 - accuracy: 0.9844 - val_loss: 0.0245 - val_accuracy: 1.0000\n",
            "Epoch 20/25\n",
            "8/8 [==============================] - 9s 1s/step - loss: 0.0238 - accuracy: 0.9922 - val_loss: 0.0194 - val_accuracy: 1.0000\n",
            "Epoch 21/25\n",
            "8/8 [==============================] - 9s 1s/step - loss: 0.0335 - accuracy: 0.9922 - val_loss: 0.0045 - val_accuracy: 1.0000\n",
            "Epoch 22/25\n",
            "8/8 [==============================] - 9s 1s/step - loss: 0.0241 - accuracy: 0.9844 - val_loss: 0.0032 - val_accuracy: 1.0000\n",
            "Epoch 23/25\n",
            "8/8 [==============================] - 9s 1s/step - loss: 0.0065 - accuracy: 0.9961 - val_loss: 4.2225e-04 - val_accuracy: 1.0000\n",
            "Epoch 24/25\n",
            "8/8 [==============================] - 9s 1s/step - loss: 0.0447 - accuracy: 0.9922 - val_loss: 8.0443e-05 - val_accuracy: 1.0000\n",
            "Epoch 25/25\n",
            "8/8 [==============================] - 9s 1s/step - loss: 0.0333 - accuracy: 0.9883 - val_loss: 4.8818e-05 - val_accuracy: 1.0000\n"
          ]
        }
      ],
      "source": [
        "history = model.fit(train_gen,\n",
        "      steps_per_epoch=8,  \n",
        "      epochs=25,\n",
        "      verbose=1,\n",
        "      validation_data = val_gen,\n",
        "      validation_steps=8)"
      ]
    },
    {
      "cell_type": "code",
      "execution_count": 91,
      "metadata": {
        "colab": {
          "base_uri": "https://localhost:8080/"
        },
        "id": "V4pnzMtyOECq",
        "outputId": "d2e99859-92d7-4075-b7b3-5baa0657a87b"
      },
      "outputs": [
        {
          "name": "stdout",
          "output_type": "stream",
          "text": [
            "268/268 [==============================] - 97s 362ms/step - loss: 0.1572 - accuracy: 0.9565\n"
          ]
        },
        {
          "data": {
            "text/plain": [
              "[0.15723279118537903, 0.9564759731292725]"
            ]
          },
          "execution_count": 91,
          "metadata": {},
          "output_type": "execute_result"
        }
      ],
      "source": [
        "model.evaluate(val_gen)"
      ]
    },
    {
      "cell_type": "code",
      "execution_count": 92,
      "metadata": {},
      "outputs": [],
      "source": [
        "model.save(\"model.hdf5\")"
      ]
    },
    {
      "cell_type": "markdown",
      "metadata": {
        "id": "VmwZeHDyPhC6"
      },
      "source": [
        "# Visualisasi Model"
      ]
    },
    {
      "cell_type": "code",
      "execution_count": 93,
      "metadata": {
        "colab": {
          "base_uri": "https://localhost:8080/",
          "height": 499
        },
        "id": "11VrRjRA3_BB",
        "outputId": "a13b2702-6ce3-4493-d835-16c7c0bfa8d7"
      },
      "outputs": [
        {
          "data": {
            "image/png": "[encoded data removed]",
            "text/plain": [
              "<Figure size 576x576 with 2 Axes>"
            ]
          },
          "metadata": {
            "needs_background": "light"
          },
          "output_type": "display_data"
        }
      ],
      "source": [
        "import matplotlib.pyplot as plt\n",
        "acc = history.history['accuracy']\n",
        "val_acc = history.history['val_accuracy']\n",
        "\n",
        "loss = history.history['loss']\n",
        "val_loss = history.history['val_loss']\n",
        "\n",
        "epochs_range = range(25)\n",
        "\n",
        "plt.figure(figsize=(8, 8))\n",
        "plt.subplot(1, 2, 1)\n",
        "plt.plot(epochs_range, acc, label='Training Accuracy')\n",
        "plt.plot(epochs_range, val_acc, label='Validation Accuracy')\n",
        "plt.legend(loc='lower right')\n",
        "plt.title('Training and Validation Accuracy')\n",
        "\n",
        "plt.subplot(1, 2, 2)\n",
        "plt.plot(epochs_range, loss, label='Training Loss')\n",
        "plt.plot(epochs_range, val_loss, label='Validation Loss')\n",
        "plt.legend(loc='upper right')\n",
        "plt.title('Training and Validation Loss')\n",
        "plt.show()"
      ]
    },
    {
      "cell_type": "markdown",
      "metadata": {
        "id": "Huj6vvw4BGZF"
      },
      "source": [
        "# Klasifikasi Data"
      ]
    },
    {
      "cell_type": "code",
      "execution_count": null,
      "metadata": {
        "id": "cFyFbeQWuwJl"
      },
      "outputs": [],
      "source": [
        "import numpy as np \n",
        "import keras\n",
        "from keras.preprocessing import image\n",
        "import keras.utils as image\n",
        "import os"
      ]
    },
    {
      "cell_type": "code",
      "execution_count": null,
      "metadata": {
        "colab": {
          "base_uri": "https://localhost:8080/",
          "height": 379
        },
        "id": "kGbFyMf1AyVN",
        "outputId": "ef0aa04d-c8cc-47c4-faad-b0e2bb383e36"
      },
      "outputs": [
        {
          "data": {
            "text/html": [
              "\n",
              "     <input type=\"file\" id=\"files-fd1c2088-3281-4b48-bd00-75990a1e9b4c\" name=\"files[]\" multiple disabled\n",
              "        style=\"border:none\" />\n",
              "     <output id=\"result-fd1c2088-3281-4b48-bd00-75990a1e9b4c\">\n",
              "      Upload widget is only available when the cell has been executed in the\n",
              "      current browser session. Please rerun this cell to enable.\n",
              "      </output>\n",
              "      <script>// Copyright 2017 Google LLC\n",
              "//\n",
              "// Licensed under the Apache License, Version 2.0 (the \"License\");\n",
              "// you may not use this file except in compliance with the License.\n",
              "// You may obtain a copy of the License at\n",
              "//\n",
              "//      http://www.apache.org/licenses/LICENSE-2.0\n",
              "//\n",
              "// Unless required by applicable law or agreed to in writing, software\n",
              "// distributed under the License is distributed on an \"AS IS\" BASIS,\n",
              "// WITHOUT WARRANTIES OR CONDITIONS OF ANY KIND, either express or implied.\n",
              "// See the License for the specific language governing permissions and\n",
              "// limitations under the License.\n",
              "\n",
              "/**\n",
              " * @fileoverview Helpers for google.colab Python module.\n",
              " */\n",
              "(function(scope) {\n",
              "function span(text, styleAttributes = {}) {\n",
              "  const element = document.createElement('span');\n",
              "  element.textContent = text;\n",
              "  for (const key of Object.keys(styleAttributes)) {\n",
              "    element.style[key] = styleAttributes[key];\n",
              "  }\n",
              "  return element;\n",
              "}\n",
              "\n",
              "// Max number of bytes which will be uploaded at a time.\n",
              "const MAX_PAYLOAD_SIZE = 100 * 1024;\n",
              "\n",
              "function _uploadFiles(inputId, outputId) {\n",
              "  const steps = uploadFilesStep(inputId, outputId);\n",
              "  const outputElement = document.getElementById(outputId);\n",
              "  // Cache steps on the outputElement to make it available for the next call\n",
              "  // to uploadFilesContinue from Python.\n",
              "  outputElement.steps = steps;\n",
              "\n",
              "  return _uploadFilesContinue(outputId);\n",
              "}\n",
              "\n",
              "// This is roughly an async generator (not supported in the browser yet),\n",
              "// where there are multiple asynchronous steps and the Python side is going\n",
              "// to poll for completion of each step.\n",
              "// This uses a Promise to block the python side on completion of each step,\n",
              "// then passes the result of the previous step as the input to the next step.\n",
              "function _uploadFilesContinue(outputId) {\n",
              "  const outputElement = document.getElementById(outputId);\n",
              "  const steps = outputElement.steps;\n",
              "\n",
              "  const next = steps.next(outputElement.lastPromiseValue);\n",
              "  return Promise.resolve(next.value.promise).then((value) => {\n",
              "    // Cache the last promise value to make it available to the next\n",
              "    // step of the generator.\n",
              "    outputElement.lastPromiseValue = value;\n",
              "    return next.value.response;\n",
              "  });\n",
              "}\n",
              "\n",
              "/**\n",
              " * Generator function which is called between each async step of the upload\n",
              " * process.\n",
              " * @param {string} inputId Element ID of the input file picker element.\n",
              " * @param {string} outputId Element ID of the output display.\n",
              " * @return {!Iterable<!Object>} Iterable of next steps.\n",
              " */\n",
              "function* uploadFilesStep(inputId, outputId) {\n",
              "  const inputElement = document.getElementById(inputId);\n",
              "  inputElement.disabled = false;\n",
              "\n",
              "  const outputElement = document.getElementById(outputId);\n",
              "  outputElement.innerHTML = '';\n",
              "\n",
              "  const pickedPromise = new Promise((resolve) => {\n",
              "    inputElement.addEventListener('change', (e) => {\n",
              "      resolve(e.target.files);\n",
              "    });\n",
              "  });\n",
              "\n",
              "  const cancel = document.createElement('button');\n",
              "  inputElement.parentElement.appendChild(cancel);\n",
              "  cancel.textContent = 'Cancel upload';\n",
              "  const cancelPromise = new Promise((resolve) => {\n",
              "    cancel.onclick = () => {\n",
              "      resolve(null);\n",
              "    };\n",
              "  });\n",
              "\n",
              "  // Wait for the user to pick the files.\n",
              "  const files = yield {\n",
              "    promise: Promise.race([pickedPromise, cancelPromise]),\n",
              "    response: {\n",
              "      action: 'starting',\n",
              "    }\n",
              "  };\n",
              "\n",
              "  cancel.remove();\n",
              "\n",
              "  // Disable the input element since further picks are not allowed.\n",
              "  inputElement.disabled = true;\n",
              "\n",
              "  if (!files) {\n",
              "    return {\n",
              "      response: {\n",
              "        action: 'complete',\n",
              "      }\n",
              "    };\n",
              "  }\n",
              "\n",
              "  for (const file of files) {\n",
              "    const li = document.createElement('li');\n",
              "    li.append(span(file.name, {fontWeight: 'bold'}));\n",
              "    li.append(span(\n",
              "        `(${file.type || 'n/a'}) - ${file.size} bytes, ` +\n",
              "        `last modified: ${\n",
              "            file.lastModifiedDate ? file.lastModifiedDate.toLocaleDateString() :\n",
              "                                    'n/a'} - `));\n",
              "    const percent = span('0% done');\n",
              "    li.appendChild(percent);\n",
              "\n",
              "    outputElement.appendChild(li);\n",
              "\n",
              "    const fileDataPromise = new Promise((resolve) => {\n",
              "      const reader = new FileReader();\n",
              "      reader.onload = (e) => {\n",
              "        resolve(e.target.result);\n",
              "      };\n",
              "      reader.readAsArrayBuffer(file);\n",
              "    });\n",
              "    // Wait for the data to be ready.\n",
              "    let fileData = yield {\n",
              "      promise: fileDataPromise,\n",
              "      response: {\n",
              "        action: 'continue',\n",
              "      }\n",
              "    };\n",
              "\n",
              "    // Use a chunked sending to avoid message size limits. See b/62115660.\n",
              "    let position = 0;\n",
              "    do {\n",
              "      const length = Math.min(fileData.byteLength - position, MAX_PAYLOAD_SIZE);\n",
              "      const chunk = new Uint8Array(fileData, position, length);\n",
              "      position += length;\n",
              "\n",
              "      const base64 = btoa(String.fromCharCode.apply(null, chunk));\n",
              "      yield {\n",
              "        response: {\n",
              "          action: 'append',\n",
              "          file: file.name,\n",
              "          data: base64,\n",
              "        },\n",
              "      };\n",
              "\n",
              "      let percentDone = fileData.byteLength === 0 ?\n",
              "          100 :\n",
              "          Math.round((position / fileData.byteLength) * 100);\n",
              "      percent.textContent = `${percentDone}% done`;\n",
              "\n",
              "    } while (position < fileData.byteLength);\n",
              "  }\n",
              "\n",
              "  // All done.\n",
              "  yield {\n",
              "    response: {\n",
              "      action: 'complete',\n",
              "    }\n",
              "  };\n",
              "}\n",
              "\n",
              "scope.google = scope.google || {};\n",
              "scope.google.colab = scope.google.colab || {};\n",
              "scope.google.colab._files = {\n",
              "  _uploadFiles,\n",
              "  _uploadFilesContinue,\n",
              "};\n",
              "})(self);\n",
              "</script> "
            ],
            "text/plain": [
              "<IPython.core.display.HTML object>"
            ]
          },
          "metadata": {},
          "output_type": "display_data"
        },
        {
          "name": "stdout",
          "output_type": "stream",
          "text": [
            "Saving IMG20221205203240.jpg to IMG20221205203240 (1).jpg\n",
            "1/1 [==============================] - 0s 39ms/step\n",
            "IMG20221205203240.jpg\n",
            "ini adalah gambar :  6\n"
          ]
        },
        {
          "data": {
            "image/png": "[encoded data removed]",
            "text/plain": [
              "<Figure size 432x288 with 1 Axes>"
            ]
          },
          "metadata": {
            "needs_background": "light"
          },
          "output_type": "display_data"
        }
      ],
      "source": [
        "\n",
        "\n",
        "\n",
        "upload_foto = files.upload()\n",
        "\n",
        "for fn in upload_foto.keys() :\n",
        "  path = fn\n",
        "  img = image.load_img(path, target_size= (128,128))\n",
        "  imgplot = plt.imshow(img)\n",
        "  x = image.img_to_array(img)\n",
        "  x = np.expand_dims(x, axis =0)\n",
        "\n",
        "  images = np.vstack([x])\n",
        "  classes = model.predict(images, batch_size=10)\n",
        "\n",
        "\n",
        "  print(fn)\n",
        "  class_list = os.listdir(\"/content/Indian\")\n",
        "  \n",
        "  for j in range(42):\n",
        "    if classes[0][j] == 1. :\n",
        "      print(\"ini adalah gambar : \", class_list[j])\n",
        "      break"
      ]
    }
  ],
  "metadata": {
    "colab": {
      "provenance": []
    },
    "kernelspec": {
      "display_name": "Python 3.9.12 ('base')",
      "language": "python",
      "name": "python3"
    },
    "language_info": {
      "codemirror_mode": {
        "name": "ipython",
        "version": 3
      },
      "file_extension": ".py",
      "mimetype": "text/x-python",
      "name": "python",
      "nbconvert_exporter": "python",
      "pygments_lexer": "ipython3",
      "version": "3.9.12"
    },
    "vscode": {
      "interpreter": {
        "hash": "75db70435391abb73e2ee544b750e12e58070c7aa617d319b83db4e065ed970a"
      }
    }
  },
  "nbformat": 4,
  "nbformat_minor": 0
}
